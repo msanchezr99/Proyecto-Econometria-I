{
 "cells": [
  {
   "cell_type": "markdown",
   "metadata": {},
   "source": [
    "## Datos ICFES\n"
   ]
  },
  {
   "cell_type": "code",
   "execution_count": 3,
   "metadata": {},
   "outputs": [],
   "source": [
    "import pandas as pd\n",
    "import matplotlib.pyplot as plt\n",
    "import seaborn as sns\n",
    "import numpy as np\n",
    "import statsmodels\n",
    "import sklearn.linear_model as lm\n",
    "import statsmodels.api as sm\n",
    "import statsmodels.stats.api as sms\n",
    "from statsmodels.compat import lzip\n",
    "\n",
    "#Datos eliminados. Archivo muy pesado. Se trabaja con el archivo limpiado data.csv\n",
    "#data=pd.read_csv(\"C:/Users/marti/OneDrive/Documentos/personal/Universidad/Econometria/Saber_11.csv\")\n",
    "\n",
    "\n",
    "#Limpieza\n",
    "#column_descartadas=data.columns[[0,1,3,4,5,6,8,9,10,11,12,13,16,19,20,22,24,25,26,27,28,33,37,38,41,43,44,45,46,47,48,51,52,53,55,56,57,58,59,61,62,64,65,67,68,70,71,73,74,76,77,78,79,80,81]]#Lista de nombres de columnas a descartar\"ESTU_TIPODOCUMENTO\",\"ESTU_NACIONALIDAD\",\"ESTU_NACIONALIDAD\",\"ESTU_\"\n",
    "#Combinar vab de calidad de vida. PCA categórico??\n",
    "#data.drop(column_descartadas, inplace=True,axis=1) \n",
    "#data.info()\n",
    "#print(data.describe(include=[\"O\"]))#Descripción categóricas\n",
    "#data.head()"
   ]
  },
  {
   "cell_type": "code",
   "execution_count": null,
   "metadata": {},
   "outputs": [],
   "source": [
    "#Creacion variables\n",
    "data=data[data.ESTU_GENERO != \"-\"]#eliminación filas sin género\n",
    "data=data[(data.FAMI_ESTRATOVIVIENDA != \"-\" ) & (data.FAMI_ESTRATOVIVIENDA !=\"Sin Estrato\")& ~( data.FAMI_ESTRATOVIVIENDA.isna())] #Eliminación filas sin especificación de estrato (& realiza elemento a elemento)\n",
    "data=data[data.FAMI_PERSONASHOGAR != \"-\"]\n",
    "data=data[(data.FAMI_EDUCACIONPADRE != \"-\")&(data.FAMI_EDUCACIONPADRE != \"No Aplica\")]\n",
    "data=data[(data.FAMI_EDUCACIONMADRE != \"-\")&(data.FAMI_EDUCACIONMADRE != \"No Aplica\")]\n",
    "\n",
    "data=data[(data.FAMI_TIENEINTERNET != \"-\")]\n",
    "data=data[(data.FAMI_TIENECOMPUTADOR != \"-\")]\n",
    "\n",
    "\n",
    "data=data[(data.FAMI_NUMLIBROS != \"-\")]\n",
    "data=data[(data.ESTU_DEDICACIONLECTURADIARIA !=\"-\")]\n",
    "data=data[(data.ESTU_DEDICACIONINTERNET !=\"-\")]\n",
    "\n",
    "data=data[(data.FAMI_COMELECHEDERIVADOS != \"-\")]\n",
    "data=data[(data.FAMI_COMECARNEPESCADOHUEVO != \"-\")]\n",
    "data=data[(data.FAMI_COMECEREALFRUTOSLEGUMBRE != \"-\")]\n",
    "\n",
    "data=data[(data.ESTU_HORASSEMANATRABAJA != \"-\")]\n",
    "\n",
    "\n",
    "#Creación variables\n",
    "data.ESTU_GENERO=pd.get_dummies(data.ESTU_GENERO).M #0 si es mujer, 1 si es hombre\n",
    "data.ESTU_TIENEETNIA= (data.ESTU_TIENEETNIA==\"Si\").astype(int)\n",
    "data.FAMI_ESTRATOVIVIENDA=data.FAMI_ESTRATOVIVIENDA.str.split(\" \").str[1].astype(int) #Extraer solo el número del estrato\n",
    "\n",
    "condiciones = [\n",
    "    data['FAMI_PERSONASHOGAR'].eq('1 a 2'), data['FAMI_PERSONASHOGAR'].eq('3 a 4'),\n",
    "    data['FAMI_PERSONASHOGAR'].eq('5 a 6'),data['FAMI_PERSONASHOGAR'].eq('7 a 8'),\n",
    "    data['FAMI_PERSONASHOGAR'].eq('9 o más')\n",
    "]\n",
    "opciones = [1,3,5,7,9]\n",
    "data.FAMI_PERSONASHOGAR = np.select(condiciones, opciones, default=0)\n",
    "#data.FAMI_PERSONASHOGAR =(data.FAMI_PERSONASHOGAR >= 7).astype(int)\n",
    "\n",
    "data.FAMI_EDUCACIONPADRE.value_counts()\n",
    "condiciones = [\n",
    "    data.FAMI_EDUCACIONPADRE.eq(\"Secundaria (Bachillerato) completa\") |data.FAMI_EDUCACIONPADRE.eq('Educación profesional completa')\n",
    "    |data.FAMI_EDUCACIONPADRE.eq(\"Técnica o tecnológica completa\")|data.FAMI_EDUCACIONPADRE.eq(\"Técnica o tecnológica incompleta\")\n",
    "    |data.FAMI_EDUCACIONPADRE.eq(\"Educación profesional incompleta\")| data.FAMI_EDUCACIONPADRE.eq(\"Postgrado\")\n",
    "]\n",
    "opciones=[1]\n",
    "data.FAMI_EDUCACIONPADRE=np.select(condiciones, opciones, default=0)\n",
    "condiciones = [\n",
    "    data.FAMI_EDUCACIONMADRE.eq(\"Secundaria (Bachillerato) completa\") | data.FAMI_EDUCACIONMADRE.eq('Educación profesional completa')\n",
    "    | data.FAMI_EDUCACIONMADRE.eq(\"Técnica o tecnológica completa\")|data.FAMI_EDUCACIONMADRE.eq(\"Técnica o tecnológica incompleta\")\n",
    "    |data.FAMI_EDUCACIONMADRE.eq(\"Educación profesional incompleta\")| data.FAMI_EDUCACIONMADRE.eq(\"Postgrado\")\n",
    "]\n",
    "opciones=[1]\n",
    "data.FAMI_EDUCACIONMADRE=np.select(condiciones, opciones, default=0)\n",
    "#Conectividad\n",
    "condiciones = [\n",
    "    data.FAMI_TIENECOMPUTADOR.eq(\"Si\") |data.FAMI_TIENEINTERNET.eq('Si')\n",
    "]\n",
    "data.FAMI_TIENECOMPUTADOR=np.select(condiciones, opciones, default=0)\n",
    "\n",
    "\n",
    "data.drop(\"FAMI_TIENEINTERNET\", inplace=True,axis=1)\n",
    "data.rename(columns = {'FAMI_TIENECOMPUTADOR':'conectividad'}, inplace = True) #se puede cambiar: asignar a data[\"conectividad\"] directamente\n",
    "#Libros\n",
    "condiciones = [\n",
    "    data['FAMI_NUMLIBROS'].eq('0 A 10 LIBROS'), data['FAMI_NUMLIBROS'].eq('11 A 25 LIBROS'),\n",
    "    data['FAMI_NUMLIBROS'].eq('26 A 100 LIBROS'),data['FAMI_NUMLIBROS'].eq('MÁS DE 100 LIBROS')\n",
    "]\n",
    "opciones = [10,25,50,100]\n",
    "data.FAMI_NUMLIBROS=np.select(condiciones, opciones, default=0)\n",
    "#Dedicación\n",
    "condiciones = [\n",
    "    data['ESTU_DEDICACIONLECTURADIARIA'].eq('No leo por entretenimiento'),\n",
    "    data['ESTU_DEDICACIONLECTURADIARIA'].eq('30 minutos o menos'),\n",
    "    data['ESTU_DEDICACIONLECTURADIARIA'].eq('Entre 30 y 60 minutos'),\n",
    "    data['ESTU_DEDICACIONLECTURADIARIA'].eq('Entre 1 y 2 horas'),\n",
    "    data['ESTU_DEDICACIONLECTURADIARIA'].eq('Más de 2 horas')\n",
    "]\n",
    "opciones = [0,3,6,12,18]\n",
    "data.ESTU_DEDICACIONLECTURADIARIA=np.select(condiciones, opciones, default=0)\n",
    "\n",
    "condiciones = [\n",
    "    data['ESTU_DEDICACIONINTERNET'].eq('No Navega Internet'),\n",
    "    data['ESTU_DEDICACIONINTERNET'].eq('30 minutos o menos'),\n",
    "    data['ESTU_DEDICACIONINTERNET'].eq('Entre 30 y 60 minutos'),\n",
    "    data['ESTU_DEDICACIONINTERNET'].eq('Entre 1 y 3 horas'),\n",
    "    data['ESTU_DEDICACIONINTERNET'].eq('Más de 3 horas')\n",
    "]\n",
    "opciones = [0,3,6,12,18]\n",
    "data.ESTU_DEDICACIONINTERNET=np.select(condiciones, opciones, default=0)\n",
    "\n",
    "#Alimentación\n",
    "condiciones = [\n",
    "    data['FAMI_COMELECHEDERIVADOS'].eq('3 a 5 veces por semana')| data['FAMI_COMELECHEDERIVADOS'].eq('Todos o casi todos los días')\n",
    "]\n",
    "opciones = [1]\n",
    "data.FAMI_COMELECHEDERIVADOS=np.select(condiciones, opciones, default=0)\n",
    "\n",
    "condiciones = [\n",
    "    data['FAMI_COMECARNEPESCADOHUEVO'].eq('3 a 5 veces por semana')| data['FAMI_COMECARNEPESCADOHUEVO'].eq('Todos o casi todos los días')\n",
    "]\n",
    "opciones = [1]\n",
    "data.FAMI_COMECARNEPESCADOHUEVO=np.select(condiciones, opciones, default=0)\n",
    "\n",
    "condiciones = [\n",
    "    data['FAMI_COMECEREALFRUTOSLEGUMBRE'].eq('3 a 5 veces por semana')| data['FAMI_COMECEREALFRUTOSLEGUMBRE'].eq('Todos o casi todos los días')\n",
    "]\n",
    "opciones = [1]\n",
    "data.FAMI_COMECEREALFRUTOSLEGUMBRE=np.select(condiciones, opciones, default=0)\n",
    "\n",
    "data[\"alimentacion\"]=data[['FAMI_COMELECHEDERIVADOS', 'FAMI_COMECARNEPESCADOHUEVO','FAMI_COMECEREALFRUTOSLEGUMBRE']].sum(axis=1)\n",
    "data.alimentacion=(data.alimentacion>=2).astype(int)\n",
    "\n",
    "data.drop(['FAMI_COMELECHEDERIVADOS','FAMI_COMECARNEPESCADOHUEVO','FAMI_COMECEREALFRUTOSLEGUMBRE'], inplace=True,axis=1)\n",
    "#Trabaja\n",
    "data.ESTU_HORASSEMANATRABAJA=(data.ESTU_HORASSEMANATRABAJA.eq('0')).astype(int)\n",
    "#Oficiales/no oficiales\n",
    "data.COLE_NATURALEZA=(data.COLE_NATURALEZA.eq(\"NO OFICIAL\")).astype(int)\n",
    "#Rural/urbano\n",
    "data.COLE_AREA_UBICACION=(data.COLE_AREA_UBICACION.eq(\"URBANO\")).astype(int)\n",
    "\n",
    "#Agrupación por colegio\n",
    "#'ESTU_DEDICACIONLECTURADIARIA','ESTU_DEDICACIONINTERNET','FAMI_NUMLIBROS' tienen relevancia para análisis individual\n",
    "#data_colegios=data.groupby(['COLE_NOMBRE_ESTABLECIMIENTO','COLE_NATURALEZA','COLE_AREA_UBICACION','COLE_DEPTO_UBICACION'],as_index=False)[['ESTU_TIENEETNIA','FAMI_ESTRATOVIVIENDA','FAMI_PERSONASHOGAR','FAMI_EDUCACIONPADRE','FAMI_EDUCACIONMADRE','ESTU_DEDICACIONLECTURADIARIA','ESTU_DEDICACIONINTERNET','FAMI_NUMLIBROS','conectividad','alimentacion','ESTU_HORASSEMANATRABAJA','PUNT_GLOBAL']].mean()\n",
    "\n",
    "#Columnas consideradas en la regresión\n",
    "#data_reg=data_colegios[['COLE_NATURALEZA', 'COLE_AREA_UBICACION', 'ESTU_TIENEETNIA', 'FAMI_ESTRATOVIVIENDA','FAMI_PERSONASHOGAR','FAMI_EDUCACIONPADRE','FAMI_EDUCACIONMADRE','conectividad','alimentacion','ESTU_HORASSEMANATRABAJA','PUNT_GLOBAL']]\n",
    "\n",
    "#Creación archivo\n",
    "#data_colegios.to_csv(path_or_buf=\"C:/Users/marti/OneDrive/Documentos/personal/Universidad/Econometria/Proyecto/data_colegios.csv\")\n"
   ]
  },
  {
   "cell_type": "code",
   "execution_count": 4,
   "metadata": {},
   "outputs": [],
   "source": [
    "#Lectura de archivo creado \n",
    "datos=pd.read_csv(\"C:/Users/marti/OneDrive/Documentos/personal/Universidad/Econometria/Proyecto/Proyecto-Econometria-I/data_colegios.csv\")\n",
    "data_reg=datos[['COLE_NATURALEZA', 'COLE_AREA_UBICACION', 'ESTU_TIENEETNIA', 'FAMI_ESTRATOVIVIENDA','FAMI_PERSONASHOGAR','FAMI_EDUCACIONPADRE','FAMI_EDUCACIONMADRE','conectividad','alimentacion','ESTU_HORASSEMANATRABAJA','PUNT_GLOBAL']]"
   ]
  },
  {
   "cell_type": "code",
   "execution_count": 5,
   "metadata": {},
   "outputs": [
    {
     "data": {
      "text/plain": [
       "<AxesSubplot:xlabel='COLE_AREA_UBICACION', ylabel='PUNT_GLOBAL'>"
      ]
     },
     "execution_count": 5,
     "metadata": {},
     "output_type": "execute_result"
    },
    {
     "data": {
      "image/png": "[encoded data removed]",
      "text/plain": [
       "<Figure size 432x288 with 1 Axes>"
      ]
     },
     "metadata": {
      "needs_background": "light"
     },
     "output_type": "display_data"
    }
   ],
   "source": [
    "#sns.boxplot(x=\"COLE_AREA_UBICACION\",y=\"PUNT_GLOBAL\",data=data_reg)\n",
    "#sns.boxplot(x=\"COLE_NATURALEZA\",y=\"PUNT_GLOBAL\",data=data_reg)#.iloc[:,1:])\n",
    "\n",
    "#sns.heatmap(data_reg.corr(),cmap=\"Blues\")\n",
    "#data_reg.corr()\n",
    "#data_colegios.info()\n",
    "\n",
    "\n"
   ]
  },
  {
   "cell_type": "code",
   "execution_count": null,
   "metadata": {},
   "outputs": [],
   "source": [
    "cuanti=data_colegios[['COLE_AREA_UBICACION','FAMI_ESTRATOVIVIENDA','FAMI_PERSONASHOGAR','FAMI_EDUCACIONPADRE','FAMI_EDUCACIONMADRE','conectividad','alimentacion','PUNT_GLOBAL']]\n",
    "plt.close()\n",
    "sns.set_style(\"whitegrid\")\n",
    "sns.pairplot(cuanti,hue=\"COLE_AREA_UBICACION\",height=3)\n",
    "plt.show()"
   ]
  },
  {
   "cell_type": "code",
   "execution_count": null,
   "metadata": {},
   "outputs": [],
   "source": [
    "data_reg.ESTU_TIENEETNIA=np.log(data_reg.ESTU_TIENEETNIA)\n",
    "data_reg.loc[data_reg.ESTU_TIENEETNIA.eq(-np.inf)]\n",
    "#data_reg.FAMI_PERSONASHOGAR=np.log(data_reg.FAMI_PERSONASHOGAR) Si ponemos como dummy\n",
    "data_reg.FAMI_EDUCACIONPADRE=np.log(data_reg.FAMI_EDUCACIONPADRE)\n",
    "data_reg.FAMI_EDUCACIONMADRE=np.log(data_reg.FAMI_EDUCACIONMADRE)\n",
    "data_reg.conectividad=np.log(data_reg.conectividad)\n",
    "data_reg.alimentacion=np.log(data_reg.alimentacion)\n",
    "\n"
   ]
  },
  {
   "cell_type": "code",
   "execution_count": null,
   "metadata": {},
   "outputs": [],
   "source": [
    "\n",
    "X = sm.add_constant(data_reg[['COLE_NATURALEZA', 'COLE_AREA_UBICACION', 'ESTU_TIENEETNIA', 'FAMI_ESTRATOVIVIENDA','FAMI_PERSONASHOGAR','FAMI_EDUCACIONPADRE','FAMI_EDUCACIONMADRE','conectividad','alimentacion']])\n",
    "reg = sm.OLS(data_reg[\"PUNT_GLOBAL\"],X)\n",
    "resultados=reg.fit()\n",
    "print(resultados.summary())"
   ]
  }
 ],
 "metadata": {
  "interpreter": {
   "hash": "957668f77d739aed3606dc0cb3e6b9836150d21e7c3a979985571ea2faa3bd84"
  },
  "kernelspec": {
   "display_name": "Python 3.9.7 ('base')",
   "language": "python",
   "name": "python3"
  },
  "language_info": {
   "codemirror_mode": {
    "name": "ipython",
    "version": 3
   },
   "file_extension": ".py",
   "mimetype": "text/x-python",
   "name": "python",
   "nbconvert_exporter": "python",
   "pygments_lexer": "ipython3",
   "version": "3.9.7"
  },
  "orig_nbformat": 4
 },
 "nbformat": 4,
 "nbformat_minor": 2
}
